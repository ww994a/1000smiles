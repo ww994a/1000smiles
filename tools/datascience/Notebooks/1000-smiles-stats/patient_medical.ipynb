{
 "cells": [
  {
   "attachments": {},
   "cell_type": "markdown",
   "metadata": {},
   "source": [
    "# Patient Medical Statistics\n",
    "\n",
    "The following charts summarize the medical data collected from Thousand Smiles Clinics Historically."
   ]
  },
  {
   "cell_type": "code",
   "execution_count": null,
   "metadata": {
    "tags": [
     "remove-input"
    ]
   },
   "outputs": [],
   "source": [
    "import pandas as pd\n",
    "import matplotlib.pyplot as plt\n",
    "import numpy as np\n",
    "import math\n",
    "from datetime import datetime\n",
    "from dateutil.relativedelta import relativedelta\n",
    "import random\n",
    "\n",
    "#default colors\n",
    "colors_ = ('viridis(np.linspace(0, 1, 12))', plt.cm.viridis(np.linspace(0, 1, 7)))[1]\n",
    "import sys\n",
    "sys.path.append('..')\n",
    "import TSD"
   ]
  },
  {
   "cell_type": "code",
   "execution_count": null,
   "metadata": {
    "tags": [
     "remove-input"
    ]
   },
   "outputs": [],
   "source": [
    "med_srs = TSD.df_medical[[\"cold_cough_fever\", \"hivaids\", \"anemia\", \"athsma\", \"cancer\", \"congenitalheartdefect\", \"diabetes\", \"epilepsy\", \"bleeding_problems\", \"hepititis\", \"tuberculosis\", \"troublespeaking\", \"troublehearing\", \"troubleeating\", \"born_with_cleft_lip\", \"born_with_cleft_palate\"]].sum()\n",
    "index_ = [\"Cold Cough Fever\", \"HIV/AIDS\", \"Anemia\", \"Athsma\",\n",
    "            \"Cancer\", \"Congenital Heart Defect\", \"Diabetes\", \"Epilepsy\",\n",
    "            \"Bleeding Problems\", \"Hepititis\", \"Tuberculosis\", \"Trouble Speaking\",\n",
    "            \"Trouble Hearing\", \"Troubleeating\", \"Born With Cleft Lip\", \n",
    "             \"Born With Cleft Palate\"]\n",
    "med_srs.index = index_\n",
    "\n",
    "colors_2 = ('viridis(np.linspace(0, 1, 12))', plt.cm.viridis(np.linspace(0, 1, len(med_srs))))[1]\n",
    "med_srs.plot.bar(color=colors_2) \n",
    "\n",
    "plt.title(\"Medical Conditions (All Time)\")\n",
    "    \n",
    "\n",
    "plt.show()"
   ]
  }
 ],
 "metadata": {
  "kernelspec": {
   "display_name": "pytorch",
   "language": "python",
   "name": "python3"
  },
  "language_info": {
   "name": "python",
   "version": "3.10.10 | packaged by conda-forge | (main, Mar 24 2023, 20:17:34) [Clang 14.0.6 ]"
  },
  "orig_nbformat": 4,
  "vscode": {
   "interpreter": {
    "hash": "cee9c7c301c61f1e66b69c3fc3900d5ed215ca996a2516a70a9f4a42d65e832b"
   }
  }
 },
 "nbformat": 4,
 "nbformat_minor": 2
}
