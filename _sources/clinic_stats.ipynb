{
 "cells": [
  {
   "attachments": {},
   "cell_type": "markdown",
   "metadata": {},
   "source": [
    "# Clinic Statistics\n",
    "\n",
    "The following charts show statistics recorded from past Thousand Smiles clinics."
   ]
  },
  {
   "cell_type": "code",
   "execution_count": null,
   "metadata": {
    "tags": [
     "remove-input"
    ]
   },
   "outputs": [],
   "source": [
    "import pandas as pd\n",
    "import matplotlib.pyplot as plt\n",
    "import numpy as np\n",
    "import math\n",
    "from datetime import datetime\n",
    "from dateutil.relativedelta import relativedelta\n",
    "import random\n",
    "\n",
    "#default colors\n",
    "colors_ = ('viridis(np.linspace(0, 1, 12))', plt.cm.viridis(np.linspace(0, 1, 7)))[1]\n",
    "import sys\n",
    "sys.path.append('..')\n",
    "import TSD"
   ]
  },
  {
   "cell_type": "code",
   "execution_count": null,
   "metadata": {
    "tags": [
     "remove-input"
    ]
   },
   "outputs": [],
   "source": [
    "count_df = TSD.df_merged.groupby(\"patient_id\").count();\n",
    "##count_df[\"id\"].plot(kind='hist', edgecolor='k', alpha=0.75, rot=0)\n",
    "'''\n",
    "plt.title(\"Number of Clinic Visits Per Patient\")\n",
    "plt.xlabel(\"Count\")\n",
    "plt.ylabel(\"Visits\")\n",
    "plt.show()\n",
    "'''\n",
    "count_row = count_df[\"id\"]\n",
    "fig = plt.figure()\n",
    "axes1 = fig.add_subplot(1,1,1)\n",
    "plt.style.use('seaborn-v0_8-whitegrid') # nice and clean grid\n",
    "n, bins, patches = axes1.hist(data =count_df, x='id', align=\"mid\", facecolor = '#2ab0ff', edgecolor='#169acf', linewidth=0.5)\n",
    "\n",
    "axes1.set_title(\"Number of Clinic Visits Per Patient\", fontsize=12)\n",
    "axes1.set_xlabel(\"Count\", fontsize = 10)\n",
    "axes1.set_ylabel(\"Visits\", fontsize = 10)\n",
    "\n",
    "n = n.astype('int')\n",
    "for i in range(len(patches)):\n",
    "    patches[i].set_facecolor(plt.cm.viridis(n[i]/max(n)))\n",
    "plt.show()"
   ]
  },
  {
   "cell_type": "code",
   "execution_count": null,
   "metadata": {
    "tags": [
     "remove-input"
    ]
   },
   "outputs": [],
   "source": [
    "TSD.df_headshot['clinic_id'].value_counts().sort_index().plot(kind='bar', alpha=0.75, color = colors_)\n",
    "plt.title(\"Headshots taken per Clinic\")\n",
    "plt.xlabel(\"Clinic ID\")\n",
    "plt.ylabel(\"Count\")\n",
    "plt.show()"
   ]
  },
  {
   "cell_type": "code",
   "execution_count": null,
   "metadata": {
    "tags": [
     "remove-input"
    ]
   },
   "outputs": [],
   "source": [
    "TSD.df_routing.groupby([\"clinic_id\", \"category\"]).size().unstack().plot(kind=\"bar\", alpha=0.75, color=colors_).legend(loc='center left',bbox_to_anchor=(1.0, 0.5));\n",
    "\n",
    "plt.title(\"Routing Slips by Patient Category Per Clinic\")\n",
    "plt.xlabel(\"Clinic\")\n",
    "plt.ylabel(\"Count\")\n",
    "plt.show()"
   ]
  },
  {
   "cell_type": "code",
   "execution_count": null,
   "metadata": {
    "tags": [
     "remove-input"
    ]
   },
   "outputs": [],
   "source": [
    "TSD.df_xray['clinic_id'].value_counts().sort_index().plot(kind='bar', alpha=0.75, color=colors_, rot=0)\n",
    "plt.title(\"X-Rays Uploaded per Clinic\")\n",
    "plt.xlabel(\"Clinic ID\")\n",
    "plt.ylabel(\"Count\")\n",
    "plt.show()"
   ]
  }
 ],
 "metadata": {
  "kernelspec": {
   "display_name": "pytorch",
   "language": "python",
   "name": "python3"
  },
  "language_info": {
   "name": "python",
   "version": "3.10.10 | packaged by conda-forge | (main, Mar 24 2023, 20:17:34) [Clang 14.0.6 ]"
  },
  "orig_nbformat": 4,
  "vscode": {
   "interpreter": {
    "hash": "cee9c7c301c61f1e66b69c3fc3900d5ed215ca996a2516a70a9f4a42d65e832b"
   }
  }
 },
 "nbformat": 4,
 "nbformat_minor": 2
}
